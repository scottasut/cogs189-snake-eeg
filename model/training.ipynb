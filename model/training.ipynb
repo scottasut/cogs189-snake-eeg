{
 "cells": [
  {
   "cell_type": "code",
   "execution_count": 1,
   "metadata": {},
   "outputs": [],
   "source": [
    "import numpy as np\n",
    "import sys\n",
    "sys.path.append('../')\n",
    "from model.lda import LDAHandler"
   ]
  },
  {
   "attachments": {},
   "cell_type": "markdown",
   "metadata": {},
   "source": [
    "## Load Processed Data"
   ]
  },
  {
   "cell_type": "code",
   "execution_count": 2,
   "metadata": {},
   "outputs": [],
   "source": [
    "X = np.load('../data/processed/X.npy')\n",
    "y = np.load('../data/processed/y.npy')"
   ]
  },
  {
   "attachments": {},
   "cell_type": "markdown",
   "metadata": {},
   "source": [
    "## Train and Run LDA Model"
   ]
  },
  {
   "cell_type": "code",
   "execution_count": 3,
   "metadata": {},
   "outputs": [
    {
     "data": {
      "text/plain": [
       "(0.9574285714285709, 0.5455000000000002)"
      ]
     },
     "execution_count": 3,
     "metadata": {},
     "output_type": "execute_result"
    }
   ],
   "source": [
    "scores = [0, 0]\n",
    "for n in range(100):    \n",
    "    train_size = 0.9\n",
    "    shuffle = np.random.permutation(len(X))\n",
    "    X, y = X[shuffle], y[shuffle]\n",
    "    X_train, y_train, X_test, y_test = X[:int(train_size * len(X))], y[:int(train_size * len(X))], X[int(train_size * len(X)):], y[int(train_size * len(X)):]\n",
    "\n",
    "    lda = LDAHandler({0:'Left', 1:'Right'})\n",
    "    lda.fit(X_train, y_train)\n",
    "    scores[0] += lda.score(X_train, y_train)\n",
    "    scores[1] += lda.score(X_test, y_test)\n",
    "scores[0] / 100, scores[1] / 100"
   ]
  }
 ],
 "metadata": {
  "kernelspec": {
   "display_name": "Python 3",
   "language": "python",
   "name": "python3"
  },
  "language_info": {
   "codemirror_mode": {
    "name": "ipython",
    "version": 3
   },
   "file_extension": ".py",
   "mimetype": "text/x-python",
   "name": "python",
   "nbconvert_exporter": "python",
   "pygments_lexer": "ipython3",
   "version": "3.9.4"
  },
  "orig_nbformat": 4
 },
 "nbformat": 4,
 "nbformat_minor": 2
}
